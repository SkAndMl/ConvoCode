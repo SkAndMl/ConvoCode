{
 "cells": [
  {
   "cell_type": "code",
   "execution_count": 11,
   "metadata": {},
   "outputs": [
    {
     "name": "stderr",
     "output_type": "stream",
     "text": [
      "Repo card metadata block was not found. Setting CardData to empty.\n",
      "Repo card metadata block was not found. Setting CardData to empty.\n"
     ]
    }
   ],
   "source": [
    "from datasets import load_dataset\n",
    "from itertools import islice\n",
    "\n",
    "split_sizes = {\n",
    "    \"train\": 5000,\n",
    "    \"valid\": 500\n",
    "}\n",
    "\n",
    "for split in split_sizes:\n",
    "    dataset = load_dataset(f\"transformersbook/codeparrot-{split}\", split=\"validation\" if split==\"valid\" else split, streaming=True)\n",
    "    split_rows = list(islice(dataset, split_sizes[split]))\n",
    "\n",
    "    with open(f\"{split}.txt\", \"w\") as f:\n",
    "        for row in split_rows:\n",
    "            f.write(row[\"content\"]+\"\\n\")"
   ]
  },
  {
   "cell_type": "markdown",
   "metadata": {},
   "source": [
    "## Remove comments"
   ]
  },
  {
   "cell_type": "code",
   "execution_count": 12,
   "metadata": {},
   "outputs": [],
   "source": [
    "files = [\"train.txt\", \"valid.txt\"]\n",
    "\n",
    "for file_name in files:\n",
    "    new_lines = []\n",
    "    with open(file_name, \"r\") as f:\n",
    "        for line in f:\n",
    "            if not line.startswith(\"#\") and len(line.strip())>0:\n",
    "                new_lines.append(line)\n",
    "    \n",
    "    with open(file_name, \"w\") as f:\n",
    "        for line in new_lines:\n",
    "            f.write(line + \"\\n\")"
   ]
  }
 ],
 "metadata": {
  "kernelspec": {
   "display_name": "venv",
   "language": "python",
   "name": "python3"
  },
  "language_info": {
   "codemirror_mode": {
    "name": "ipython",
    "version": 3
   },
   "file_extension": ".py",
   "mimetype": "text/x-python",
   "name": "python",
   "nbconvert_exporter": "python",
   "pygments_lexer": "ipython3",
   "version": "3.11.7"
  }
 },
 "nbformat": 4,
 "nbformat_minor": 2
}
